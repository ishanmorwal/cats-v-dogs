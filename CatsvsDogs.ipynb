{
  "nbformat": 4,
  "nbformat_minor": 0,
  "metadata": {
    "colab": {
      "provenance": [],
      "gpuType": "T4",
      "authorship_tag": "ABX9TyO3hZV0jnuNnvUGlTLPUwvg",
      "include_colab_link": true
    },
    "kernelspec": {
      "name": "python3",
      "display_name": "Python 3"
    },
    "language_info": {
      "name": "python"
    },
    "accelerator": "GPU"
  },
  "cells": [
    {
      "cell_type": "markdown",
      "metadata": {
        "id": "view-in-github",
        "colab_type": "text"
      },
      "source": [
        "<a href=\"https://colab.research.google.com/github/ishanmorwal/cats-v-dogs/blob/main/CatsvsDogs.ipynb\" target=\"_parent\"><img src=\"https://colab.research.google.com/assets/colab-badge.svg\" alt=\"Open In Colab\"/></a>"
      ]
    },
    {
      "cell_type": "markdown",
      "source": [
        "#An Introduction  \n",
        "This here was my answer to the [Cats vs Dogs Kaggle challenge](https://kaggle,com/datasets/karakaggle/kaggle-cat-vs-dog-dataset) (that I was met with in my Coursera course). Cats vs Dogs is a famous Kaggle Challenge that involves programming an image classification model to classify Cats vs Dogs. It's difficulty ranges from easy to intermediate, and is a really good coding challenge for beginners."
      ],
      "metadata": {
        "id": "p3eytR7XmP96"
      }
    },
    {
      "cell_type": "code",
      "execution_count": 1,
      "metadata": {
        "id": "oqsQEbZvmDZK"
      },
      "outputs": [],
      "source": [
        "import os\n",
        "import zipfile\n",
        "import random\n",
        "import shutil\n",
        "import tensorflow as tf\n",
        "from tensorflow.keras.preprocessing.image import ImageDataGenerator\n",
        "from shutil import copyfile\n",
        "import matplotlib.pyplot as plt"
      ]
    },
    {
      "cell_type": "markdown",
      "source": [
        "After the imports, the next step is to download the original dataset, which is made possible using wget."
      ],
      "metadata": {
        "id": "3n6MbiZwmJbk"
      }
    },
    {
      "cell_type": "code",
      "source": [
        "!wget --no-check-certificate \\\n",
        "  \"https://download.microsoft.com/download/3/E/1/3E1C3F21-ECDB-4869-8368-6DEBA77B919F/kagglecatsanddogs_5340.zip\" \\\n",
        "-O  \"/tmp/cats-and-dogs.zip\"\n",
        "\n",
        "lzip = '/tmp/cats-and-dogs.zip'\n",
        "zip_ref = zipfile.ZipFile(lzip,'r')\n",
        "zip_ref.extractall('/tmp')\n",
        "zip_ref.close()"
      ],
      "metadata": {
        "colab": {
          "base_uri": "https://localhost:8080/"
        },
        "id": "PGdczoNgwY89",
        "outputId": "ce254247-4563-4627-cc9e-2905854e8dc8"
      },
      "execution_count": 2,
      "outputs": [
        {
          "output_type": "stream",
          "name": "stdout",
          "text": [
            "--2024-02-08 07:43:55--  https://download.microsoft.com/download/3/E/1/3E1C3F21-ECDB-4869-8368-6DEBA77B919F/kagglecatsanddogs_5340.zip\n",
            "Resolving download.microsoft.com (download.microsoft.com)... 23.217.112.221, 2600:1417:3f:138a::317f, 2600:1417:3f:1388::317f\n",
            "Connecting to download.microsoft.com (download.microsoft.com)|23.217.112.221|:443... connected.\n",
            "HTTP request sent, awaiting response... 200 OK\n",
            "Length: 824887076 (787M) [application/octet-stream]\n",
            "Saving to: ‘/tmp/cats-and-dogs.zip’\n",
            "\n",
            "/tmp/cats-and-dogs. 100%[===================>] 786.67M   136MB/s    in 6.0s    \n",
            "\n",
            "2024-02-08 07:44:01 (132 MB/s) - ‘/tmp/cats-and-dogs.zip’ saved [824887076/824887076]\n",
            "\n"
          ]
        }
      ]
    },
    {
      "cell_type": "markdown",
      "source": [
        "The dataset would have been downloaded and stored within the specified directory (/tmp/PetImages). There are two sub-directories (for cats and for dogs)\n",
        "\n"
      ],
      "metadata": {
        "id": "vCuTLfQ7xR2V"
      }
    },
    {
      "cell_type": "code",
      "source": [
        "src_path = '/tmp/PetImages'\n",
        "\n",
        "src_path_cats = os.path.join(src_path,'Cat')\n",
        "src_path_dogs = os.path.join(src_path,'Dog')\n",
        "\n",
        "#Important! Delete all non-image files from the directories\n",
        "!find /tmp/PetImages/ -type f ! -name \"*.jpg\" -exec rm {} +\n",
        "\n",
        "#Below code returns a list containing all files under the given directories\n",
        "print(f\"There are {len(os.listdir(src_path_cats))} images of cats.\")\n",
        "print(f\"There are {len(os.listdir(src_path_dogs))} images of dogs.\")"
      ],
      "metadata": {
        "colab": {
          "base_uri": "https://localhost:8080/"
        },
        "id": "1s23M1kJxgz3",
        "outputId": "b4b6ea32-2e1f-4395-8344-f74cb51f91ec"
      },
      "execution_count": 3,
      "outputs": [
        {
          "output_type": "stream",
          "name": "stdout",
          "text": [
            "There are 12500 images of cats.\n",
            "There are 12500 images of dogs.\n"
          ]
        }
      ]
    },
    {
      "cell_type": "markdown",
      "source": [
        "**Expected Output:**\n",
        "\n",
        "\n",
        "```\n",
        "There are 12500 images of cats.\n",
        "There are 12500 images of dogs.\n",
        "```\n",
        "\n"
      ],
      "metadata": {
        "id": "RFWbhsfXyt4Y"
      }
    },
    {
      "cell_type": "markdown",
      "source": [
        "Now comes the part where we divide the directories and the data within for *training* and *validation*."
      ],
      "metadata": {
        "id": "EtuFN5M0y7o8"
      }
    },
    {
      "cell_type": "code",
      "source": [
        "root_dir = '/tmp/cats-v-dogs'\n",
        "\n",
        "#Code below makes sure that directory is empty:\n",
        "if os.path.exists(root_dir):\n",
        "  shutil.rmtree(root_dir)\n",
        "\n",
        "#This function creates the training and validation directories:\n",
        "\n",
        "def create_train_val_dirs(root_path):\n",
        "  #does not return anything\n",
        "\n",
        "  os.makedirs(os.path.join(root_path,'training'))\n",
        "  os.makedirs(os.path.join(root_path,'validation'))\n",
        "  os.makedirs(os.path.join(root_path,'training/cats'))\n",
        "  os.makedirs(os.path.join(root_path,'training/dogs'))\n",
        "  os.makedirs(os.path.join(root_path,'validation/cats'))\n",
        "  os.makedirs(os.path.join(root_path,'validation/dogs'))\n",
        "\n",
        "\n",
        "try:\n",
        "  create_train_val_dirs(root_path=root_dir)\n",
        "except FileExistsError:\n",
        "  print(\"Shouldn't be seeing this.\")\n"
      ],
      "metadata": {
        "id": "Z3kgh6p_zJNf"
      },
      "execution_count": 4,
      "outputs": []
    },
    {
      "cell_type": "code",
      "source": [
        "#For checking if those directories are created\n",
        "\n",
        "for rootdir,dirs,files in os.walk(root_dir):\n",
        "  for subdir in dirs:\n",
        "    print(os.path.join(rootdir,subdir))"
      ],
      "metadata": {
        "colab": {
          "base_uri": "https://localhost:8080/"
        },
        "id": "YKioaTfoIN-V",
        "outputId": "b7e96def-6562-4281-c974-456547fd7f66"
      },
      "execution_count": 5,
      "outputs": [
        {
          "output_type": "stream",
          "name": "stdout",
          "text": [
            "/tmp/cats-v-dogs/training\n",
            "/tmp/cats-v-dogs/validation\n",
            "/tmp/cats-v-dogs/training/dogs\n",
            "/tmp/cats-v-dogs/training/cats\n",
            "/tmp/cats-v-dogs/validation/dogs\n",
            "/tmp/cats-v-dogs/validation/cats\n"
          ]
        }
      ]
    },
    {
      "cell_type": "markdown",
      "source": [
        "**Expected Output:**\n",
        "\n",
        "\n",
        "```\n",
        "/tmp/cats-v-dogs/training\n",
        "/tmp/cats-v-dogs/validation\n",
        "/tmp/cats-v-dogs/training/cats\n",
        "/tmp/cats-v-dogs/training/dogs\n",
        "/tmp/cats-v-dogs/validation/cats\n",
        "/tmp/cats-v-dogs/validation/dogs\n",
        "```\n",
        "\n"
      ],
      "metadata": {
        "id": "LhOm9Uz3Ia_e"
      }
    },
    {
      "cell_type": "markdown",
      "source": [
        "The next step is to code a `split_data` function, which takes in the following arguments:\n",
        "\n",
        "\n",
        "*   SOURCE_DIR: the directory containing the files\n",
        "*   TRAINING_DIR: directory that a portion of files would be copied to (for training)\n",
        "*   VALIDATION_DIR: Similar to TRAINING_DIR, but for validation\n",
        "*   SPLIT_SIZE: this determines the portion ofimages used for training.\n",
        "\n",
        "\n",
        "\n"
      ],
      "metadata": {
        "id": "bck1mNWzIwN4"
      }
    },
    {
      "cell_type": "markdown",
      "source": [
        "The reason behind the randomization of the files that we would be doing in the function described below, so that the training data is randomized and so is the validation, which in turn, helps us train an efficient model.\n",
        "\n",
        "As for the SPLIT_SIZE, if it is .9, then 90% of images in PetImages/Cat would be copied to the TRAINING_DIR, and the rest to the VALIDATION_DIR.\n",
        "\n",
        "Plus, if in the dataset, there are images that have zero file length (that is, are irrelevent or empty), we would need to check the images as well."
      ],
      "metadata": {
        "id": "Wy5OP_z8JjXV"
      }
    },
    {
      "cell_type": "code",
      "source": [
        "def split_data(SOURCE_DIR,TRAINING_DIR,VALIDATION_DIR,SPLIT_SIZE):\n",
        "  filtered = []\n",
        "\n",
        "  for file_name in os.listdir(SOURCE_DIR):\n",
        "    file_path = os.path.join(SOURCE_DIR,file_name)\n",
        "    if os.path.getsize(file_path):\n",
        "      filtered.append(file_name)\n",
        "    else:\n",
        "      print(f\"{file_name} is zero length, so ignoring\")\n",
        "\n",
        "  random_files = random.sample(filtered,len(filtered))\n",
        "  split = int(SPLIT_SIZE*len(filtered))\n",
        "  training_files = random_files[:split]\n",
        "  validation_files = random_files[split:]\n",
        "\n",
        "  for file_name in training_files:\n",
        "    copyfile(os.path.join(SOURCE_DIR,file_name),os.path.join(TRAINING_DIR,file_name))\n",
        "\n",
        "  for file_name in validation_files:\n",
        "    copyfile(os.path.join(SOURCE_DIR,file_name),os.path.join(VALIDATION_DIR,file_name))\n"
      ],
      "metadata": {
        "id": "NQ0J1a63KZrl"
      },
      "execution_count": 6,
      "outputs": []
    },
    {
      "cell_type": "code",
      "source": [
        "# For testing the split_data function:\n",
        "\n",
        "CAT_SOURCE_DIR = \"/tmp/PetImages/Cat/\"\n",
        "DOG_SOURCE_DIR = \"/tmp/PetImages/Dog/\"\n",
        "\n",
        "TRAINING_DIR = \"/tmp/cats-v-dogs/training/\"\n",
        "VALIDATION_DIR = \"/tmp/cats-v-dogs/validation/\"\n",
        "\n",
        "TRAINING_CATS_DIR = os.path.join(TRAINING_DIR,\"cats/\")\n",
        "VALIDATION_CATS_DIR = os.path.join(VALIDATION_DIR,\"cats/\")\n",
        "\n",
        "TRAINING_DOGS_DIR = os.path.join(TRAINING_DIR,\"dogs/\")\n",
        "VALIDATION_DOGS_DIR = os.path.join(VALIDATION_DIR,\"dogs/\")\n",
        "\n",
        "# Empties the directories beforehand, in case of multiple uses\n",
        "if len(os.listdir(TRAINING_CATS_DIR)) > 0:\n",
        "  for file in os.scandir(TRAINING_CATS_DIR):\n",
        "    os.remove(file.path)\n",
        "if len(os.listdir(TRAINING_DOGS_DIR)) > 0:\n",
        "  for file in os.scandir(TRAINING_DOGS_DIR):\n",
        "    os.remove(file.path)\n",
        "if len(os.listdir(VALIDATION_CATS_DIR)) > 0:\n",
        "  for file in os.scandir(VALIDATION_CATS_DIR):\n",
        "    os.remove(file.path)\n",
        "if len(os.listdir(VALIDATION_DOGS_DIR)) > 0:\n",
        "  for file in os.scandir(VALIDATION_DOGS_DIR):\n",
        "    os.remove(file.path)\n",
        "\n",
        "# Specify the split ratio:\n",
        "split_size = .9\n",
        "\n",
        "# Running the function\n",
        "split_data(CAT_SOURCE_DIR, TRAINING_CATS_DIR, VALIDATION_CATS_DIR, split_size)\n",
        "split_data(DOG_SOURCE_DIR, TRAINING_DOGS_DIR, VALIDATION_DOGS_DIR, split_size)\n",
        "\n",
        "# Original directories:\n",
        "print(f\"\\n Original cat's directory has {len(os.listdir(CAT_SOURCE_DIR))} images\")\n",
        "print(f\"\\n Original dog's directory has {len(os.listdir(DOG_SOURCE_DIR))} images\")\n",
        "\n",
        "# Training and validation splits\n",
        "print(f\"\\nThere are {len(os.listdir(TRAINING_CATS_DIR))} images of cats for training\")\n",
        "print(f\"There are {len(os.listdir(TRAINING_DOGS_DIR))} images of dogs for training\")\n",
        "print(f\"There are {len(os.listdir(VALIDATION_CATS_DIR))} images of cats for validation\")\n",
        "print(f\"There are {len(os.listdir(VALIDATION_DOGS_DIR))} images of dogs for validation\")"
      ],
      "metadata": {
        "colab": {
          "base_uri": "https://localhost:8080/"
        },
        "id": "xRo_eQ4wNL8h",
        "outputId": "e788e668-40ee-4668-b1e3-513b6fdd0340"
      },
      "execution_count": 7,
      "outputs": [
        {
          "output_type": "stream",
          "name": "stdout",
          "text": [
            "666.jpg is zero length, so ignoring\n",
            "11702.jpg is zero length, so ignoring\n",
            "\n",
            " Original cat's directory has 12500 images\n",
            "\n",
            " Original dog's directory has 12500 images\n",
            "\n",
            "There are 11249 images of cats for training\n",
            "There are 11249 images of dogs for training\n",
            "There are 1250 images of cats for validation\n",
            "There are 1250 images of dogs for validation\n"
          ]
        }
      ]
    },
    {
      "cell_type": "markdown",
      "source": [
        "#**Generators**\n",
        " Post data organization, the most important step is coding the generators, that is the *ImageDataGenerators*.\n",
        "Whatever the image resolution in our set is, we can convert each image to a standard of our own choosing using 'target_size' in our flow_from_directory method. The default here is (150,150)."
      ],
      "metadata": {
        "id": "jduK9xX8aux9"
      }
    },
    {
      "cell_type": "code",
      "source": [
        "def train_val_generators(TRAINING_DIR,VALIDATION_DIR):\n",
        "  train_datagen = ImageDataGenerator(rescale = 1.0/255)\n",
        "  train_generator = train_datagen.flow_from_directory(directory = TRAINING_DIR,\n",
        "                                                      batch_size =15,\n",
        "                                                      class_mode =\"binary\",\n",
        "                                                      target_size = (150,150))\n",
        "  validation_datagen = ImageDataGenerator(rescale=1.0/255)\n",
        "  validation_generator = validation_datagen.flow_from_directory(directory=VALIDATION_DIR,\n",
        "                                                                batch_size=15,\n",
        "                                                                class_mode=\"binary\",\n",
        "                                                                target_size=(150,150))\n",
        "  return train_generator,validation_generator"
      ],
      "metadata": {
        "id": "DBZ74q4pbuRk"
      },
      "execution_count": 8,
      "outputs": []
    },
    {
      "cell_type": "code",
      "source": [
        "#Test your generators using this piece of code\n",
        "train_generator,validation_generator = train_val_generators(TRAINING_DIR,VALIDATION_DIR)"
      ],
      "metadata": {
        "colab": {
          "base_uri": "https://localhost:8080/"
        },
        "id": "0hayt3-ockbE",
        "outputId": "718d2b59-9a48-4892-8c4c-2507cd5575c5"
      },
      "execution_count": 9,
      "outputs": [
        {
          "output_type": "stream",
          "name": "stdout",
          "text": [
            "Found 22498 images belonging to 2 classes.\n",
            "Found 2500 images belonging to 2 classes.\n"
          ]
        }
      ]
    },
    {
      "cell_type": "markdown",
      "source": [
        "# **Model Creation**\n",
        "\n",
        "The last step before training is the creation of the required model, which is made possible through Keras' Sequential model.\n",
        "\n",
        "Using the loss function allows us to better understand the output of our network, along with its accuracy."
      ],
      "metadata": {
        "id": "IsHJM3X6dylo"
      }
    },
    {
      "cell_type": "code",
      "source": [
        "def create_model():\n",
        "\n",
        "  model = tf.keras.models.Sequential([\n",
        "      tf.keras.layers.Conv2D(16,(3,3),activation='relu',input_shape=(150,150,3)),\n",
        "      tf.keras.layers.MaxPooling2D(2,2),\n",
        "      tf.keras.layers.Conv2D(32,(3,3),activation='relu'),\n",
        "      tf.keras.layers.MaxPooling2D(2,2),\n",
        "      tf.keras.layers.Conv2D(64,(3,3),activation='relu'),\n",
        "      tf.keras.layers.MaxPooling2D(2,2),\n",
        "      tf.keras.layers.Flatten(),\n",
        "      tf.keras.layers.Dense(512,activation='relu'),\n",
        "      tf.keras.layers.Dense(1,activation='sigmoid')\n",
        "  ])\n",
        "\n",
        "  from tensorflow.keras.optimizers import RMSprop\n",
        "  model.compile(optimizer=RMSprop(learning_rate=0.0001),\n",
        "                loss='binary_crossentropy',\n",
        "                metrics=['accuracy'])\n",
        "\n",
        "  return model"
      ],
      "metadata": {
        "id": "kCcVkDUYeREG"
      },
      "execution_count": 10,
      "outputs": []
    },
    {
      "cell_type": "code",
      "source": [
        "# Now time to train your model:\n",
        "\n",
        "model = create_model()\n",
        "\n",
        "# May take some time\n",
        "history = model.fit(train_generator,\n",
        "                    epochs=15,\n",
        "                    verbose=1,\n",
        "                    validation_data=validation_generator)\n"
      ],
      "metadata": {
        "colab": {
          "base_uri": "https://localhost:8080/"
        },
        "id": "40dPqWWhnb3c",
        "outputId": "1f3cefce-a845-48e0-a958-0c7c5a0cc7c4"
      },
      "execution_count": 11,
      "outputs": [
        {
          "output_type": "stream",
          "name": "stdout",
          "text": [
            "Epoch 1/15\n",
            " 860/1500 [================>.............] - ETA: 19s - loss: 0.6241 - accuracy: 0.6455"
          ]
        },
        {
          "output_type": "stream",
          "name": "stderr",
          "text": [
            "/usr/local/lib/python3.10/dist-packages/PIL/TiffImagePlugin.py:858: UserWarning: Truncated File Read\n",
            "  warnings.warn(str(msg))\n"
          ]
        },
        {
          "output_type": "stream",
          "name": "stdout",
          "text": [
            "1500/1500 [==============================] - 54s 33ms/step - loss: 0.5912 - accuracy: 0.6769 - val_loss: 0.5561 - val_accuracy: 0.7156\n",
            "Epoch 2/15\n",
            "1500/1500 [==============================] - 47s 32ms/step - loss: 0.4943 - accuracy: 0.7597 - val_loss: 0.4821 - val_accuracy: 0.7760\n",
            "Epoch 3/15\n",
            "1500/1500 [==============================] - 47s 32ms/step - loss: 0.4399 - accuracy: 0.7942 - val_loss: 0.4439 - val_accuracy: 0.7928\n",
            "Epoch 4/15\n",
            "1500/1500 [==============================] - 47s 32ms/step - loss: 0.4017 - accuracy: 0.8174 - val_loss: 0.4609 - val_accuracy: 0.7816\n",
            "Epoch 5/15\n",
            "1500/1500 [==============================] - 50s 34ms/step - loss: 0.3669 - accuracy: 0.8383 - val_loss: 0.4221 - val_accuracy: 0.8016\n",
            "Epoch 6/15\n",
            "1500/1500 [==============================] - 49s 32ms/step - loss: 0.3339 - accuracy: 0.8558 - val_loss: 0.4232 - val_accuracy: 0.8012\n",
            "Epoch 7/15\n",
            "1500/1500 [==============================] - 50s 34ms/step - loss: 0.2957 - accuracy: 0.8741 - val_loss: 0.4183 - val_accuracy: 0.8184\n",
            "Epoch 8/15\n",
            "1500/1500 [==============================] - 51s 34ms/step - loss: 0.2570 - accuracy: 0.8919 - val_loss: 0.4163 - val_accuracy: 0.8132\n",
            "Epoch 9/15\n",
            "1500/1500 [==============================] - 49s 32ms/step - loss: 0.2159 - accuracy: 0.9135 - val_loss: 0.4915 - val_accuracy: 0.8036\n",
            "Epoch 10/15\n",
            "1500/1500 [==============================] - 48s 32ms/step - loss: 0.1710 - accuracy: 0.9343 - val_loss: 0.4564 - val_accuracy: 0.8140\n",
            "Epoch 11/15\n",
            "1500/1500 [==============================] - 49s 33ms/step - loss: 0.1309 - accuracy: 0.9513 - val_loss: 0.4824 - val_accuracy: 0.8140\n",
            "Epoch 12/15\n",
            "1500/1500 [==============================] - 50s 33ms/step - loss: 0.0939 - accuracy: 0.9681 - val_loss: 0.5085 - val_accuracy: 0.8172\n",
            "Epoch 13/15\n",
            "1500/1500 [==============================] - 49s 32ms/step - loss: 0.0626 - accuracy: 0.9809 - val_loss: 0.5860 - val_accuracy: 0.8168\n",
            "Epoch 14/15\n",
            "1500/1500 [==============================] - 48s 32ms/step - loss: 0.0422 - accuracy: 0.9889 - val_loss: 0.6480 - val_accuracy: 0.8180\n",
            "Epoch 15/15\n",
            "1500/1500 [==============================] - 49s 33ms/step - loss: 0.0278 - accuracy: 0.9925 - val_loss: 0.7301 - val_accuracy: 0.8176\n"
          ]
        }
      ]
    },
    {
      "cell_type": "markdown",
      "source": [
        "Post training, to analyze the accuracy and loss of your model over time, you can plot your output using the code block below."
      ],
      "metadata": {
        "id": "6CMi3azBnuR6"
      }
    },
    {
      "cell_type": "code",
      "source": [
        "acc = history.history['accuracy']\n",
        "val_acc = history.history['val_accuracy']\n",
        "loss = history.history['loss']\n",
        "val_loss = history.history['val_loss']\n",
        "\n",
        "epochs = range(len(acc)) # Receives number of epochs\n",
        "\n",
        "# Plotting training and validation ACCURACY\n",
        "plt.plot(epochs,acc,'r',\"Training accuracy\")\n",
        "plt.plot(epochs,val_acc,'b',\"Validation accuracy\")\n",
        "plt.title(\"Training and Validation accuracy\")\n",
        "plt.show()\n",
        "print(\"\")\n",
        "\n",
        "# Plotting training and validation LOSS\n",
        "plt.plot(epochs,loss,'r',\"Training Loss\")\n",
        "plt.plot(epochs,val_loss,'b',\"Validation Loss\")\n",
        "plt.title(\"Training and Validation loss\")\n",
        "plt.show()"
      ],
      "metadata": {
        "colab": {
          "base_uri": "https://localhost:8080/",
          "height": 904
        },
        "id": "IQKRQ6KOn9qN",
        "outputId": "b906125d-d016-4d43-ae84-f966e7a16556"
      },
      "execution_count": 12,
      "outputs": [
        {
          "output_type": "display_data",
          "data": {
            "text/plain": [
              "<Figure size 640x480 with 1 Axes>"
            ],
            "image/png": "[encoded data removed]"
          },
          "metadata": {}
        },
        {
          "output_type": "stream",
          "name": "stdout",
          "text": [
            "\n"
          ]
        },
        {
          "output_type": "display_data",
          "data": {
            "text/plain": [
              "<Figure size 640x480 with 1 Axes>"
            ],
            "image/png": "[encoded data removed]"
          },
          "metadata": {}
        }
      ]
    },
    {
      "cell_type": "markdown",
      "source": [
        "That's it for the training of your model! The next part is taking user input and checking whether the image is that of a cat, or a dog.\n"
      ],
      "metadata": {
        "id": "T_PpgaTBoxiC"
      }
    },
    {
      "cell_type": "code",
      "source": [
        "# prompt:  I want to take user input in the form of an image that checks whether the image is a cat or a dog.\n",
        "# I made use of the prompt as I was trying to check whether tensorflow had an image loading program as well, and turns out, It does.\n",
        "import numpy as np\n",
        "from google.colab import files\n",
        "from keras.preprocessing import image\n",
        "\n",
        "uploaded = files.upload()\n",
        "\n",
        "for fn in uploaded.keys():\n",
        "\n",
        "  # predicting images\n",
        "  path = '/content/' + fn\n",
        "  img = image.load_img(path, target_size=(150, 150))\n",
        "  x = image.img_to_array(img)\n",
        "  x = np.expand_dims(x, axis=0)\n",
        "\n",
        "  images = np.vstack([x])\n",
        "  classes = model.predict(images, batch_size=15)\n",
        "  print(classes[0])\n",
        "  if classes[0]>0.5:\n",
        "    print(f\"{fn} is the image of a dog\")\n",
        "  else:\n",
        "    print(f\"{fn} is the image of a cat\")\n"
      ],
      "metadata": {
        "colab": {
          "base_uri": "https://localhost:8080/",
          "height": 125
        },
        "id": "JKSEqnqswoZE",
        "outputId": "36c2d9ef-5e22-4c86-a2ff-ffce322fa4f7"
      },
      "execution_count": 18,
      "outputs": [
        {
          "output_type": "display_data",
          "data": {
            "text/plain": [
              "<IPython.core.display.HTML object>"
            ],
            "text/html": [
              "\n",
              "     <input type=\"file\" id=\"files-08627443-c9fe-4eca-be3a-c58b26ea0026\" name=\"files[]\" multiple disabled\n",
              "        style=\"border:none\" />\n",
              "     <output id=\"result-08627443-c9fe-4eca-be3a-c58b26ea0026\">\n",
              "      Upload widget is only available when the cell has been executed in the\n",
              "      current browser session. Please rerun this cell to enable.\n",
              "      </output>\n",
              "      <script>// Copyright 2017 Google LLC\n",
              "//\n",
              "// Licensed under the Apache License, Version 2.0 (the \"License\");\n",
              "// you may not use this file except in compliance with the License.\n",
              "// You may obtain a copy of the License at\n",
              "//\n",
              "//      http://www.apache.org/licenses/LICENSE-2.0\n",
              "//\n",
              "// Unless required by applicable law or agreed to in writing, software\n",
              "// distributed under the License is distributed on an \"AS IS\" BASIS,\n",
              "// WITHOUT WARRANTIES OR CONDITIONS OF ANY KIND, either express or implied.\n",
              "// See the License for the specific language governing permissions and\n",
              "// limitations under the License.\n",
              "\n",
              "/**\n",
              " * @fileoverview Helpers for google.colab Python module.\n",
              " */\n",
              "(function(scope) {\n",
              "function span(text, styleAttributes = {}) {\n",
              "  const element = document.createElement('span');\n",
              "  element.textContent = text;\n",
              "  for (const key of Object.keys(styleAttributes)) {\n",
              "    element.style[key] = styleAttributes[key];\n",
              "  }\n",
              "  return element;\n",
              "}\n",
              "\n",
              "// Max number of bytes which will be uploaded at a time.\n",
              "const MAX_PAYLOAD_SIZE = 100 * 1024;\n",
              "\n",
              "function _uploadFiles(inputId, outputId) {\n",
              "  const steps = uploadFilesStep(inputId, outputId);\n",
              "  const outputElement = document.getElementById(outputId);\n",
              "  // Cache steps on the outputElement to make it available for the next call\n",
              "  // to uploadFilesContinue from Python.\n",
              "  outputElement.steps = steps;\n",
              "\n",
              "  return _uploadFilesContinue(outputId);\n",
              "}\n",
              "\n",
              "// This is roughly an async generator (not supported in the browser yet),\n",
              "// where there are multiple asynchronous steps and the Python side is going\n",
              "// to poll for completion of each step.\n",
              "// This uses a Promise to block the python side on completion of each step,\n",
              "// then passes the result of the previous step as the input to the next step.\n",
              "function _uploadFilesContinue(outputId) {\n",
              "  const outputElement = document.getElementById(outputId);\n",
              "  const steps = outputElement.steps;\n",
              "\n",
              "  const next = steps.next(outputElement.lastPromiseValue);\n",
              "  return Promise.resolve(next.value.promise).then((value) => {\n",
              "    // Cache the last promise value to make it available to the next\n",
              "    // step of the generator.\n",
              "    outputElement.lastPromiseValue = value;\n",
              "    return next.value.response;\n",
              "  });\n",
              "}\n",
              "\n",
              "/**\n",
              " * Generator function which is called between each async step of the upload\n",
              " * process.\n",
              " * @param {string} inputId Element ID of the input file picker element.\n",
              " * @param {string} outputId Element ID of the output display.\n",
              " * @return {!Iterable<!Object>} Iterable of next steps.\n",
              " */\n",
              "function* uploadFilesStep(inputId, outputId) {\n",
              "  const inputElement = document.getElementById(inputId);\n",
              "  inputElement.disabled = false;\n",
              "\n",
              "  const outputElement = document.getElementById(outputId);\n",
              "  outputElement.innerHTML = '';\n",
              "\n",
              "  const pickedPromise = new Promise((resolve) => {\n",
              "    inputElement.addEventListener('change', (e) => {\n",
              "      resolve(e.target.files);\n",
              "    });\n",
              "  });\n",
              "\n",
              "  const cancel = document.createElement('button');\n",
              "  inputElement.parentElement.appendChild(cancel);\n",
              "  cancel.textContent = 'Cancel upload';\n",
              "  const cancelPromise = new Promise((resolve) => {\n",
              "    cancel.onclick = () => {\n",
              "      resolve(null);\n",
              "    };\n",
              "  });\n",
              "\n",
              "  // Wait for the user to pick the files.\n",
              "  const files = yield {\n",
              "    promise: Promise.race([pickedPromise, cancelPromise]),\n",
              "    response: {\n",
              "      action: 'starting',\n",
              "    }\n",
              "  };\n",
              "\n",
              "  cancel.remove();\n",
              "\n",
              "  // Disable the input element since further picks are not allowed.\n",
              "  inputElement.disabled = true;\n",
              "\n",
              "  if (!files) {\n",
              "    return {\n",
              "      response: {\n",
              "        action: 'complete',\n",
              "      }\n",
              "    };\n",
              "  }\n",
              "\n",
              "  for (const file of files) {\n",
              "    const li = document.createElement('li');\n",
              "    li.append(span(file.name, {fontWeight: 'bold'}));\n",
              "    li.append(span(\n",
              "        `(${file.type || 'n/a'}) - ${file.size} bytes, ` +\n",
              "        `last modified: ${\n",
              "            file.lastModifiedDate ? file.lastModifiedDate.toLocaleDateString() :\n",
              "                                    'n/a'} - `));\n",
              "    const percent = span('0% done');\n",
              "    li.appendChild(percent);\n",
              "\n",
              "    outputElement.appendChild(li);\n",
              "\n",
              "    const fileDataPromise = new Promise((resolve) => {\n",
              "      const reader = new FileReader();\n",
              "      reader.onload = (e) => {\n",
              "        resolve(e.target.result);\n",
              "      };\n",
              "      reader.readAsArrayBuffer(file);\n",
              "    });\n",
              "    // Wait for the data to be ready.\n",
              "    let fileData = yield {\n",
              "      promise: fileDataPromise,\n",
              "      response: {\n",
              "        action: 'continue',\n",
              "      }\n",
              "    };\n",
              "\n",
              "    // Use a chunked sending to avoid message size limits. See b/62115660.\n",
              "    let position = 0;\n",
              "    do {\n",
              "      const length = Math.min(fileData.byteLength - position, MAX_PAYLOAD_SIZE);\n",
              "      const chunk = new Uint8Array(fileData, position, length);\n",
              "      position += length;\n",
              "\n",
              "      const base64 = btoa(String.fromCharCode.apply(null, chunk));\n",
              "      yield {\n",
              "        response: {\n",
              "          action: 'append',\n",
              "          file: file.name,\n",
              "          data: base64,\n",
              "        },\n",
              "      };\n",
              "\n",
              "      let percentDone = fileData.byteLength === 0 ?\n",
              "          100 :\n",
              "          Math.round((position / fileData.byteLength) * 100);\n",
              "      percent.textContent = `${percentDone}% done`;\n",
              "\n",
              "    } while (position < fileData.byteLength);\n",
              "  }\n",
              "\n",
              "  // All done.\n",
              "  yield {\n",
              "    response: {\n",
              "      action: 'complete',\n",
              "    }\n",
              "  };\n",
              "}\n",
              "\n",
              "scope.google = scope.google || {};\n",
              "scope.google.colab = scope.google.colab || {};\n",
              "scope.google.colab._files = {\n",
              "  _uploadFiles,\n",
              "  _uploadFilesContinue,\n",
              "};\n",
              "})(self);\n",
              "</script> "
            ]
          },
          "metadata": {}
        },
        {
          "output_type": "stream",
          "name": "stdout",
          "text": [
            "Saving pexels-photo-1170986-351144503.jpeg to pexels-photo-1170986-351144503.jpeg\n",
            "1/1 [==============================] - 0s 17ms/step\n",
            "[0.]\n",
            "pexels-photo-1170986-351144503.jpeg is a cat\n"
          ]
        }
      ]
    },
    {
      "cell_type": "markdown",
      "source": [
        "The younger the animal in the image is, the more fuzzy the model's prediction gets, which is the next logical step in improving the accuracy of this model."
      ],
      "metadata": {
        "id": "L6Q3MOZDy9wO"
      }
    }
  ]
}